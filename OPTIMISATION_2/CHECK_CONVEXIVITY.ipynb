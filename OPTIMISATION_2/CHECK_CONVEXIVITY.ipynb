{
 "cells": [
  {
   "cell_type": "markdown",
   "metadata": {},
   "source": [
    "# Check Convexity (Price variable)"
   ]
  },
  {
   "cell_type": "code",
   "execution_count": 17,
   "metadata": {},
   "outputs": [
    {
     "name": "stdout",
     "output_type": "stream",
     "text": [
      "Hessian Matrix:\n",
      "⎡        ⎛                     ⎛        ____________    ⎞                ⎞    \n",
      "⎢        ⎜    1.9e-5     0.019⋅⎝0.001⋅╲╱ waterᵢₙₚᵤₜ  + 1⎠      0.088855  ⎟    \n",
      "⎢- price⋅⎜- ────────── + ──────────────────────────────── - ─────────────⎟ + 0\n",
      "⎢        ⎜  waterᵢₙₚᵤₜ                      3/2                       3/2⎟    \n",
      "⎢        ⎝                        waterᵢₙₚᵤₜ                waterᵢₙₚᵤₜ   ⎠    \n",
      "⎢                                                                             \n",
      "⎢                                                   ⎛        ____________    ⎞\n",
      "⎢                                             0.038⋅⎝0.001⋅╲╱ waterᵢₙₚᵤₜ  + 1⎠\n",
      "⎢                                             ────────────────────────────────\n",
      "⎢                                                        ____________         \n",
      "⎣                                                      ╲╱ waterᵢₙₚᵤₜ          \n",
      "\n",
      "                                                                       ⎛      \n",
      "              -0.9                                          0.1  0.038⋅⎝0.001⋅\n",
      ".11⋅waterᵢₙₚᵤₜ    ⋅(0.005⋅waterᵢₙₚᵤₜ + 5) + 0.011⋅waterᵢₙₚᵤₜ     ─────────────\n",
      "                                                                            __\n",
      "                                                                          ╲╱ w\n",
      "                                                                              \n",
      "                                                                              \n",
      "      0.17771                                                                 \n",
      " - ──────────────                                                             \n",
      "     ____________                                                             \n",
      "   ╲╱ waterᵢₙₚᵤₜ                                                              \n",
      "\n",
      "  ____________    ⎞                 ⎤\n",
      "╲╱ waterᵢₙₚᵤₜ  + 1⎠      0.17771    ⎥\n",
      "─────────────────── - ──────────────⎥\n",
      "__________              ____________⎥\n",
      "aterᵢₙₚᵤₜ             ╲╱ waterᵢₙₚᵤₜ ⎥\n",
      "                                    ⎥\n",
      "                                    ⎥\n",
      "                                    ⎥\n",
      "           0                        ⎥\n",
      "                                    ⎥\n",
      "                                    ⎦\n",
      "Is the negative function convex?  False\n"
     ]
    }
   ],
   "source": [
    "import sympy as sp\n",
    "\n",
    "def is_positive_semidefinite(matrix):\n",
    "    # Check if all the eigenvalues are non-negative\n",
    "    eigenvalues = matrix.eigenvals()\n",
    "    # Use is_nonnegative to check non-negativity\n",
    "    return all(val.is_nonnegative for val in eigenvalues.keys())\n",
    "\n",
    "def compute_hessian():\n",
    "    # Define the symbols\n",
    "    water_input = sp.Symbol('water_input', real=True, positive=True)\n",
    "    price = sp.Symbol('price', real=True, positive=True)\n",
    "\n",
    "    # Define the objective function and negate it\n",
    "    yield_term = -0.0038 * (100 + 0.1 * sp.sqrt(water_input))**2 + 3.5542 * (100 + 0.1 * sp.sqrt(water_input)) - 170.86\n",
    "    cost_term = (5 + 0.005 * water_input) * water_input**1.1\n",
    "    objective = -1 * (price * yield_term - cost_term)  # Negating the function\n",
    "\n",
    "    # Compute the Hessian matrix\n",
    "    hessian = sp.hessian(objective, (water_input, price))\n",
    "\n",
    "    return hessian\n",
    "\n",
    "# Compute the Hessian matrix\n",
    "hessian_matrix = compute_hessian()\n",
    "\n",
    "# Check if the Hessian matrix is positive semidefinite\n",
    "convex = is_positive_semidefinite(hessian_matrix)\n",
    "\n",
    "# Print the results\n",
    "print(\"Hessian Matrix:\")\n",
    "sp.pprint(hessian_matrix)\n",
    "print(\"Is the negative function convex? \", convex)"
   ]
  },
  {
   "cell_type": "markdown",
   "metadata": {},
   "source": [
    "# Check Convexitity (Price Constant)"
   ]
  },
  {
   "cell_type": "code",
   "execution_count": 11,
   "metadata": {},
   "outputs": [
    {
     "name": "stdout",
     "output_type": "stream",
     "text": [
      "Hessian Matrix:\n",
      "⎡                                                                             \n",
      "⎢               -0.9                                          0.1    0.00019  \n",
      "⎢0.11⋅waterᵢₙₚᵤₜ    ⋅(0.005⋅waterᵢₙₚᵤₜ + 5) + 0.011⋅waterᵢₙₚᵤₜ    + ──────────\n",
      "⎢                                                                   waterᵢₙₚᵤₜ\n",
      "⎣                                                                             \n",
      "\n",
      "        ⎛        ____________    ⎞                ⎤\n",
      "   0.19⋅⎝0.001⋅╲╱ waterᵢₙₚᵤₜ  + 1⎠      0.88855   ⎥\n",
      " - ─────────────────────────────── + ─────────────⎥\n",
      "                      3/2                      3/2⎥\n",
      "            waterᵢₙₚᵤₜ               waterᵢₙₚᵤₜ   ⎦\n",
      "Is the negative function convex?  True\n"
     ]
    }
   ],
   "source": [
    "import sympy as sp\n",
    "\n",
    "def is_positive_semidefinite(matrix):\n",
    "    # Check if all the eigenvalues are non-negative\n",
    "    eigenvalues = matrix.eigenvals()\n",
    "    # Use is_nonnegative to check non-negativity\n",
    "    return all(val.is_nonnegative for val in eigenvalues.keys())\n",
    "\n",
    "def compute_hessian(price_value):\n",
    "    # Define the symbols\n",
    "    water_input = sp.Symbol('water_input', real=True, positive=True)\n",
    "    \n",
    "    # Define the objective function (negative of the original function)\n",
    "    yield_term = -0.0038 * (100 + 0.1 * sp.sqrt(water_input))**2 + 3.5542 * (100 + 0.1 * sp.sqrt(water_input)) - 170.86\n",
    "    cost_term = (5 + 0.005 * water_input) * water_input**1.1\n",
    "    objective = -1 * (price_value * yield_term - cost_term)  # Negating the function\n",
    "\n",
    "    # Compute the Hessian matrix with respect to water_input only\n",
    "    hessian = sp.hessian(objective, (water_input,))\n",
    "\n",
    "    return hessian\n",
    "\n",
    "# Assume a specific value for price\n",
    "price_value = 10  # Example constant value for price\n",
    "\n",
    "# Compute the Hessian matrix\n",
    "hessian_matrix = compute_hessian(price_value)\n",
    "\n",
    "# Check if the Hessian matrix is positive semidefinite\n",
    "convex = is_positive_semidefinite(hessian_matrix)\n",
    "\n",
    "# Print the results\n",
    "print(\"Hessian Matrix:\")\n",
    "sp.pprint(hessian_matrix)\n",
    "print(\"Is the negative function convex? \", convex)"
   ]
  }
 ],
 "metadata": {
  "kernelspec": {
   "display_name": "Python 3",
   "language": "python",
   "name": "python3"
  },
  "language_info": {
   "codemirror_mode": {
    "name": "ipython",
    "version": 3
   },
   "file_extension": ".py",
   "mimetype": "text/x-python",
   "name": "python",
   "nbconvert_exporter": "python",
   "pygments_lexer": "ipython3",
   "version": "3.11.9"
  }
 },
 "nbformat": 4,
 "nbformat_minor": 2
}
