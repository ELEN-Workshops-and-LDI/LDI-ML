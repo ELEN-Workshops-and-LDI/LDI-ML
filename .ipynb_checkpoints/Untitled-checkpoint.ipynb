{
 "cells": [
  {
   "cell_type": "markdown",
   "id": "7d3fbc34-c2e4-46c4-957c-70a1ce85591f",
   "metadata": {},
   "source": [
    "# LDI Project - Predict market price using ML"
   ]
  },
  {
   "cell_type": "markdown",
   "id": "f9f04221-dd33-4ab9-9b98-b299e5a6410f",
   "metadata": {},
   "source": [
    "## Import Data"
   ]
  },
  {
   "cell_type": "markdown",
   "id": "e7df7564-d3a5-43a3-b9c1-2d18472b26a8",
   "metadata": {},
   "source": [
    "We'll first try preducting SP500 price, as data is cleaner and with less volatility. Then move to water market"
   ]
  },
  {
   "cell_type": "code",
   "execution_count": null,
   "id": "fe51b81e-24bc-402c-9018-7a6adf3c5c2b",
   "metadata": {},
   "outputs": [],
   "source": []
  },
  {
   "cell_type": "markdown",
   "id": "fba7fbda-cbea-40a3-ba64-bb5d45ee6b67",
   "metadata": {},
   "source": [
    "## Predict market price using CNN's"
   ]
  },
  {
   "cell_type": "code",
   "execution_count": 1,
   "id": "6eccb673-05ce-47ee-9985-13f0a62c4666",
   "metadata": {},
   "outputs": [
    {
     "ename": "NameError",
     "evalue": "name 'data' is not defined",
     "output_type": "error",
     "traceback": [
      "\u001b[0;31m---------------------------------------------------------------------------\u001b[0m",
      "\u001b[0;31mNameError\u001b[0m                                 Traceback (most recent call last)",
      "Cell \u001b[0;32mIn[1], line 15\u001b[0m\n\u001b[1;32m     13\u001b[0m \u001b[38;5;66;03m# Assuming you have a numpy array 'data' with market data (e.g., stock prices)\u001b[39;00m\n\u001b[1;32m     14\u001b[0m lookback \u001b[38;5;241m=\u001b[39m \u001b[38;5;241m30\u001b[39m  \u001b[38;5;66;03m# Number of previous time steps to consider\u001b[39;00m\n\u001b[0;32m---> 15\u001b[0m X, Y \u001b[38;5;241m=\u001b[39m prepare_data(\u001b[43mdata\u001b[49m, lookback)\n\u001b[1;32m     17\u001b[0m \u001b[38;5;66;03m# Reshape the input data for CNN\u001b[39;00m\n\u001b[1;32m     18\u001b[0m X \u001b[38;5;241m=\u001b[39m X\u001b[38;5;241m.\u001b[39mreshape((X\u001b[38;5;241m.\u001b[39mshape[\u001b[38;5;241m0\u001b[39m], X\u001b[38;5;241m.\u001b[39mshape[\u001b[38;5;241m1\u001b[39m], \u001b[38;5;241m1\u001b[39m))\n",
      "\u001b[0;31mNameError\u001b[0m: name 'data' is not defined"
     ]
    }
   ],
   "source": [
    "import numpy as np\n",
    "from keras.models import Sequential\n",
    "from keras.layers import Conv1D, MaxPooling1D, Flatten, Dense\n",
    "\n",
    "# Prepare the data\n",
    "def prepare_data(data, lookback):\n",
    "    X, Y = [], []\n",
    "    for i in range(len(data) - lookback - 1):\n",
    "        X.append(data[i:(i + lookback), 0])\n",
    "        Y.append(data[i + lookback, 0])\n",
    "    return np.array(X), np.array(Y)\n",
    "\n",
    "# Assuming you have a numpy array 'data' with market data (e.g., stock prices)\n",
    "lookback = 30  # Number of previous time steps to consider\n",
    "X, Y = prepare_data(data, lookback)\n",
    "\n",
    "# Reshape the input data for CNN\n",
    "X = X.reshape((X.shape[0], X.shape[1], 1))\n",
    "\n",
    "# Define the CNN model\n",
    "model = Sequential()\n",
    "model.add(Conv1D(filters=32, kernel_size=3, activation='relu', input_shape=(lookback, 1)))\n",
    "model.add(MaxPooling1D(pool_size=2))\n",
    "model.add(Flatten())\n",
    "model.add(Dense(units=64, activation='relu'))\n",
    "model.add(Dense(units=1))\n",
    "\n",
    "# Compile the model\n",
    "model.compile(optimizer='adam', loss='mean_squared_error')\n",
    "\n",
    "# Train the model\n",
    "model.fit(X, Y, epochs=50, batch_size=32)\n",
    "\n",
    "# Make predictions\n",
    "test_data = ...  # Prepare test data similar to 'data'\n",
    "X_test, _ = prepare_data(test_data, lookback)\n",
    "X_test = X_test.reshape((X_test.shape[0], X_test.shape[1], 1))\n",
    "predictions = model.predict(X_test)"
   ]
  }
 ],
 "metadata": {
  "kernelspec": {
   "display_name": "Python 3 (ipykernel)",
   "language": "python",
   "name": "python3"
  },
  "language_info": {
   "codemirror_mode": {
    "name": "ipython",
    "version": 3
   },
   "file_extension": ".py",
   "mimetype": "text/x-python",
   "name": "python",
   "nbconvert_exporter": "python",
   "pygments_lexer": "ipython3",
   "version": "3.11.2"
  }
 },
 "nbformat": 4,
 "nbformat_minor": 5
}
