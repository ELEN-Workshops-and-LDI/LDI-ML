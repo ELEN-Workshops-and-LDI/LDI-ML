{
 "cells": [
  {
   "cell_type": "code",
   "execution_count": 50,
   "metadata": {},
   "outputs": [],
   "source": [
    "import numpy as np\n",
    "import pandas as pd"
   ]
  },
  {
   "cell_type": "code",
   "execution_count": 51,
   "metadata": {},
   "outputs": [],
   "source": [
    "TIMESCALE = \"Monthly\"\n",
    "# File path of the data\n",
    "file_paths = [\n",
    "    {'file_path': f'../../[A1] - GET_EXOG_VARS/{TIMESCALE}MeanTempData.csv', 'title': f'{TIMESCALE} Mean Temperature', 'row_thresh_multiplier': 0.5},\n",
    "    {'file_path': f'../../[A1] - GET_EXOG_VARS/{TIMESCALE}MeanDryAir.csv', 'title': f'{TIMESCALE} Mean Dry Air', 'row_thresh_multiplier': 0.5},\n",
    "    {'file_path': f'../../[A1] - GET_EXOG_VARS/{TIMESCALE}MeanStorageVolume.csv', 'title': f'{TIMESCALE} Mean Storage Volume', 'row_thresh_multiplier': 0.56},\n",
    "    {'file_path': f'../../[A1] - GET_EXOG_VARS/{TIMESCALE}MeanEC.csv', 'title': f'{TIMESCALE} Mean Electrical Conductivity', 'row_thresh_multiplier': 0.5},\n",
    "    {'file_path': f'../../[A1] - GET_EXOG_VARS/{TIMESCALE}MeanRainfall.csv', 'title': f'{TIMESCALE} Mean Rainfall', 'row_thresh_multiplier': 0.5},\n",
    "    {'file_path': f'../../[A1] - GET_EXOG_VARS/{TIMESCALE}MeanWaterCourseDischarge.csv', 'title': f'{TIMESCALE} Mean Water Course Discharge', 'row_thresh_multiplier': 0.5},\n",
    "    # Add more datasets as needed\n",
    "]\n",
    "\n",
    "\n"
   ]
  },
  {
   "cell_type": "code",
   "execution_count": 52,
   "metadata": {},
   "outputs": [
    {
     "name": "stdout",
     "output_type": "stream",
     "text": [
      "Row averages for Monthly Mean Temperature:\n",
      "Time\n",
      "2010-01-31 00:00:00+10:00    22.564080\n",
      "2010-02-28 00:00:00+10:00    22.649412\n",
      "2010-03-31 00:00:00+10:00    20.027626\n",
      "2010-04-30 00:00:00+10:00    17.088161\n",
      "2010-05-31 00:00:00+10:00    12.434865\n",
      "Freq: M, dtype: float64\n",
      "Row averages for Monthly Mean Dry Air:\n",
      "Time\n",
      "2010-01-31 00:00:00+10:00    21.600\n",
      "2010-02-28 00:00:00+10:00    19.450\n",
      "2010-03-31 00:00:00+10:00    16.650\n",
      "2010-04-30 00:00:00+10:00    13.175\n",
      "2010-05-31 00:00:00+10:00     8.525\n",
      "Freq: M, dtype: float64\n",
      "Row averages for Monthly Mean Storage Volume:\n",
      "Time\n",
      "2010-01-31 00:00:00+10:00    806.170485\n",
      "2010-02-28 00:00:00+10:00    801.501412\n",
      "2010-03-31 00:00:00+10:00    810.382257\n",
      "2010-04-30 00:00:00+10:00    810.750574\n",
      "2010-05-31 00:00:00+10:00    802.881373\n",
      "Freq: M, dtype: float64\n",
      "Row averages for Monthly Mean Electrical Conductivity:\n",
      "Time\n",
      "2010-01-31 00:00:00+10:00    300.885792\n",
      "2010-02-28 00:00:00+10:00    294.598913\n",
      "2010-03-31 00:00:00+10:00    316.057635\n",
      "2010-04-30 00:00:00+10:00    329.128641\n",
      "2010-05-31 00:00:00+10:00    332.211765\n",
      "Freq: M, dtype: float64\n",
      "Row averages for Monthly Mean Rainfall:\n",
      "Time\n",
      "2010-01-31 00:00:00+10:00    33.129559\n",
      "2010-02-28 00:00:00+10:00    86.405153\n",
      "2010-03-31 00:00:00+10:00    86.315962\n",
      "2010-04-30 00:00:00+10:00    52.254820\n",
      "2010-05-31 00:00:00+10:00    64.370699\n",
      "Freq: M, dtype: float64\n",
      "Row averages for Monthly Mean Water Course Discharge:\n",
      "Time\n",
      "2010-01-31 00:00:00+10:00    3.466405\n",
      "2010-02-28 00:00:00+10:00    3.758896\n",
      "2010-03-31 00:00:00+10:00    3.352010\n",
      "2010-04-30 00:00:00+10:00    2.387946\n",
      "2010-05-31 00:00:00+10:00    2.307751\n",
      "Freq: M, dtype: float64\n"
     ]
    }
   ],
   "source": [
    "all_monthly_averages = pd.DataFrame()\n",
    "\n",
    "# Load the dataset\n",
    "df = pd.read_csv(file_paths[1]['file_path'], parse_dates=[0], infer_datetime_format=True)\n",
    "# Set the datetime column as the index\n",
    "for file_info in file_paths:\n",
    "    df = pd.read_csv(file_info['file_path'], parse_dates=[0], infer_datetime_format=True)\n",
    "    df.set_index('Time', inplace=True)\n",
    "    # Resample the data by month and calculate the mean for each column\n",
    "    monthly_avg = df.resample('M').median()\n",
    "    monthly_avg = monthly_avg.clip(lower=0, upper=1000)\n",
    "\n",
    "    # Calculate the average for each row\n",
    "    row_averages = monthly_avg.mean(axis=1, skipna=True)\n",
    "\n",
    "    # Print the row averages\n",
    "    print(f\"Row averages for {file_info['title']}:\")\n",
    "    print(row_averages.head())\n",
    "    all_monthly_averages[file_info['title']] = row_averages\n",
    "\n",
    "all_monthly_averages.to_csv('EXOG_MONTHLY_MEDIAN_CONSOLIDATED.csv', index=True)\n",
    "\n"
   ]
  }
 ],
 "metadata": {
  "kernelspec": {
   "display_name": "Python 3",
   "language": "python",
   "name": "python3"
  },
  "language_info": {
   "codemirror_mode": {
    "name": "ipython",
    "version": 3
   },
   "file_extension": ".py",
   "mimetype": "text/x-python",
   "name": "python",
   "nbconvert_exporter": "python",
   "pygments_lexer": "ipython3",
   "version": "3.11.9"
  }
 },
 "nbformat": 4,
 "nbformat_minor": 2
}
